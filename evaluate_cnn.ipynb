{
 "cells": [
  {
   "cell_type": "markdown",
   "metadata": {},
   "source": [
    "# Evaluating test data with CNN model"
   ]
  },
  {
   "cell_type": "markdown",
   "metadata": {},
   "source": [
    "## Import libraries"
   ]
  },
  {
   "cell_type": "code",
   "execution_count": 1,
   "metadata": {},
   "outputs": [],
   "source": [
    "%matplotlib inline\n",
    "import numpy as np\n",
    "from utils.helper import read_data\n",
    "from tensorflow import keras\n",
    "FOLDER = \"data/\"\n",
    "SAMPLE_SIZE = 1000"
   ]
  },
  {
   "cell_type": "markdown",
   "metadata": {},
   "source": [
    "## Import data"
   ]
  },
  {
   "cell_type": "markdown",
   "metadata": {},
   "source": [
    "Import raw data"
   ]
  },
  {
   "cell_type": "code",
   "execution_count": 2,
   "metadata": {},
   "outputs": [
    {
     "name": "stdout",
     "output_type": "stream",
     "text": [
      "Shape one of three static datas: (3, 30000, 64)\n",
      "Shape one of three moving datas: (3, 30000, 64)\n"
     ]
    }
   ],
   "source": [
    "data_static = [read_data(FOLDER + \"data_static_30_s_0.csv\")]\n",
    "data_moving = [read_data(FOLDER + \"data_moving_30_s_0.csv\")]\n",
    "print(f\"Shape one of three static datas: {data_static[0].shape}\")\n",
    "print(f\"Shape one of three moving datas: {data_moving[0].shape}\")"
   ]
  },
  {
   "cell_type": "markdown",
   "metadata": {},
   "source": [
    "Calculate phases and reshape in samples of 1000 values"
   ]
  },
  {
   "cell_type": "code",
   "execution_count": 3,
   "metadata": {},
   "outputs": [
    {
     "name": "stdout",
     "output_type": "stream",
     "text": [
      "Shape static phases: (30, 1000)\n",
      "Shape moving phases: (30, 1000)\n",
      "Shape train data: (60, 1000)\n"
     ]
    }
   ],
   "source": [
    "from utils.helper import calculate_phases\n",
    "phases_static = calculate_phases(data_static, 1, SAMPLE_SIZE)\n",
    "phases_moving = calculate_phases(data_moving, 1, SAMPLE_SIZE)\n",
    "print(f\"Shape static phases: {phases_static.shape}\")\n",
    "print(f\"Shape moving phases: {phases_moving.shape}\")\n",
    "\n",
    "test_data = np.concatenate((phases_static, phases_moving))\n",
    "print(f\"Shape train data: {test_data.shape}\")"
   ]
  },
  {
   "cell_type": "markdown",
   "metadata": {},
   "source": [
    "Create one hot encoded labels"
   ]
  },
  {
   "cell_type": "code",
   "execution_count": 4,
   "metadata": {},
   "outputs": [
    {
     "name": "stdout",
     "output_type": "stream",
     "text": [
      "Shape train labels: (60,)\n",
      "Shape train labels one hot: (60, 2)\n"
     ]
    }
   ],
   "source": [
    "indexes = np.arange(test_data.shape[0])\n",
    "test_labels = indexes >= test_data.shape[0]/2\n",
    "print(\"Shape train labels:\", test_labels.shape)\n",
    "nb_classes = 2\n",
    "test_labels_one_hot = np.eye(nb_classes)[test_labels.astype(int)]\n",
    "print(\"Shape train labels one hot:\", test_labels_one_hot.shape)"
   ]
  },
  {
   "cell_type": "markdown",
   "metadata": {},
   "source": [
    "## Load Model"
   ]
  },
  {
   "cell_type": "markdown",
   "metadata": {},
   "source": [
    "### Load CNN model"
   ]
  },
  {
   "cell_type": "code",
   "execution_count": 10,
   "metadata": {},
   "outputs": [],
   "source": [
    "model = keras.models.load_model('models/CNN')"
   ]
  },
  {
   "cell_type": "markdown",
   "metadata": {},
   "source": [
    "### Make prediction"
   ]
  },
  {
   "cell_type": "code",
   "execution_count": 11,
   "metadata": {},
   "outputs": [
    {
     "name": "stdout",
     "output_type": "stream",
     "text": [
      "2/2 [==============================] - 0s 3ms/step - loss: 0.4951 - accuracy: 0.5333\n",
      "Loss: 0.49505990743637085\n",
      "Accuracy: 0.5333333611488342\n"
     ]
    }
   ],
   "source": [
    "loss, aacuracy = model.evaluate(test_data, test_labels_one_hot)\n",
    "print(f\"Loss: {loss}\")\n",
    "print(f\"Accuracy: {aacuracy}\")"
   ]
  },
  {
   "cell_type": "code",
   "execution_count": 19,
   "metadata": {},
   "outputs": [
    {
     "name": "stdout",
     "output_type": "stream",
     "text": [
      "(1, 1000)\n",
      "Predicted value: [[0.42137393 0.57862604]]\n",
      "Real value: [1. 0.]\n"
     ]
    }
   ],
   "source": [
    "N = 13\n",
    "print(test_data[N].reshape(1, -1).shape)\n",
    "predicted_values = model.predict(test_data[N].reshape(1, -1))\n",
    "print(f\"Predicted value: {predicted_values}\")\n",
    "print(f\"Real value: {test_labels_one_hot[N]}\")"
   ]
  }
 ],
 "metadata": {
  "interpreter": {
   "hash": "f976f22ca523fa7c223ddc511be648efe3885e5b69831dadfb203e0f1a349f23"
  },
  "kernelspec": {
   "display_name": "Python 3.8.8 ('venv': venv)",
   "language": "python",
   "name": "python3"
  },
  "language_info": {
   "codemirror_mode": {
    "name": "ipython",
    "version": 3
   },
   "file_extension": ".py",
   "mimetype": "text/x-python",
   "name": "python",
   "nbconvert_exporter": "python",
   "pygments_lexer": "ipython3",
   "version": "3.8.8"
  },
  "orig_nbformat": 4
 },
 "nbformat": 4,
 "nbformat_minor": 2
}
