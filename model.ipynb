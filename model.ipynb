{
 "cells": [
  {
   "cell_type": "markdown",
   "metadata": {},
   "source": [
    "# Basic CNN model"
   ]
  },
  {
   "cell_type": "markdown",
   "metadata": {},
   "source": [
    "## Import libraries"
   ]
  },
  {
   "cell_type": "code",
   "execution_count": 1,
   "metadata": {},
   "outputs": [],
   "source": [
    "%matplotlib inline\n",
    "import numpy as np\n",
    "from utils.helper import read_data\n",
    "import utils.processing as processing\n",
    "import matplotlib.pyplot as plt\n",
    "FOLDER = \"data/\"\n",
    "SAMPLE_SIZE = 1000\n",
    "N_STATIC = 3\n",
    "N_MOVING = 3"
   ]
  },
  {
   "cell_type": "markdown",
   "metadata": {},
   "source": [
    "## Data preprocessing"
   ]
  },
  {
   "cell_type": "markdown",
   "metadata": {},
   "source": [
    "Here we are reading the data from the files and combining the phases of size **SAMPLE_SIZE**. "
   ]
  },
  {
   "cell_type": "code",
   "execution_count": 2,
   "metadata": {},
   "outputs": [
    {
     "name": "stdout",
     "output_type": "stream",
     "text": [
      "Shape one of three static datas: (3, 100000, 64)\n",
      "Shape one of three moving datas: (3, 100000, 64)\n"
     ]
    }
   ],
   "source": [
    "data_static = [read_data(FOLDER + \"data_static_100_s_\" + str(i+1) + \".csv\") for i in range(N_STATIC)]\n",
    "data_moving = [read_data(FOLDER + \"data_moving_100_s_\" + str(i+1) + \".csv\") for i in range(N_MOVING)]\n",
    "print(f\"Shape one of three static datas: {data_static[0].shape}\")\n",
    "print(f\"Shape one of three moving datas: {data_moving[0].shape}\")"
   ]
  },
  {
   "cell_type": "code",
   "execution_count": 3,
   "metadata": {},
   "outputs": [
    {
     "name": "stdout",
     "output_type": "stream",
     "text": [
      "Shape static phases: (300, 1000)\n",
      "Shape moving phases: (300, 1000)\n",
      "Shape train data: (600, 1000)\n"
     ]
    }
   ],
   "source": [
    "from utils.helper import calculate_phases\n",
    "phases_static = calculate_phases(data_static, N_STATIC, SAMPLE_SIZE)\n",
    "phases_moving = calculate_phases(data_moving, N_STATIC, SAMPLE_SIZE)\n",
    "print(f\"Shape static phases: {phases_static.shape}\")\n",
    "print(f\"Shape moving phases: {phases_moving.shape}\")\n",
    "\n",
    "train_data = np.concatenate((phases_static, phases_moving))\n",
    "print(f\"Shape train data: {train_data.shape}\")"
   ]
  },
  {
   "cell_type": "markdown",
   "metadata": {},
   "source": [
    "Now we need to create labels for the training data."
   ]
  },
  {
   "cell_type": "code",
   "execution_count": 4,
   "metadata": {},
   "outputs": [
    {
     "name": "stdout",
     "output_type": "stream",
     "text": [
      "Shape train labels: (600,)\n"
     ]
    }
   ],
   "source": [
    "indexes = np.arange(train_data.shape[0])\n",
    "train_labels = indexes >= train_data.shape[0]/2\n",
    "print(\"Shape train labels:\", train_labels.shape)"
   ]
  },
  {
   "cell_type": "markdown",
   "metadata": {},
   "source": [
    "## Model"
   ]
  },
  {
   "cell_type": "markdown",
   "metadata": {},
   "source": [
    "### Simple Threshold classifier"
   ]
  },
  {
   "cell_type": "code",
   "execution_count": 5,
   "metadata": {},
   "outputs": [
    {
     "name": "stdout",
     "output_type": "stream",
     "text": [
      "              precision    recall  f1-score   support\n",
      "\n",
      "       False       0.65      1.00      0.79       300\n",
      "        True       1.00      0.46      0.63       300\n",
      "\n",
      "    accuracy                           0.73       600\n",
      "   macro avg       0.82      0.73      0.71       600\n",
      "weighted avg       0.82      0.73      0.71       600\n",
      "\n"
     ]
    }
   ],
   "source": [
    "from sklearn.metrics import classification_report\n",
    "means = np.mean(train_data, axis=1)\n",
    "classified_data = means > 30 #False = not moving True = moving\n",
    "\n",
    "print(classification_report(train_labels, classified_data))"
   ]
  }
 ],
 "metadata": {
  "interpreter": {
   "hash": "5b6733c80a170f7c6ac91b7c9490b4b31eff3db4a9d64c44dc656adf47af7bb6"
  },
  "kernelspec": {
   "display_name": "Python 3.8.8 ('venv': venv)",
   "language": "python",
   "name": "python3"
  },
  "language_info": {
   "codemirror_mode": {
    "name": "ipython",
    "version": 3
   },
   "file_extension": ".py",
   "mimetype": "text/x-python",
   "name": "python",
   "nbconvert_exporter": "python",
   "pygments_lexer": "ipython3",
   "version": "3.8.8"
  },
  "orig_nbformat": 4
 },
 "nbformat": 4,
 "nbformat_minor": 2
}
