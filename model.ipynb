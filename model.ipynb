{
 "cells": [
  {
   "cell_type": "markdown",
   "metadata": {},
   "source": [
    "# Classificatino models"
   ]
  },
  {
   "cell_type": "markdown",
   "metadata": {},
   "source": [
    "## Import libraries"
   ]
  },
  {
   "cell_type": "code",
   "execution_count": 2,
   "metadata": {},
   "outputs": [],
   "source": [
    "%matplotlib inline\n",
    "import numpy as np\n",
    "from utils.helper import read_data\n",
    "import utils.processing as processing\n",
    "import matplotlib.pyplot as plt\n",
    "FOLDER = \"data/\"\n",
    "SAMPLE_SIZE = 1000\n",
    "N_STATIC = 3\n",
    "N_MOVING = 3"
   ]
  },
  {
   "cell_type": "markdown",
   "metadata": {},
   "source": [
    "## Data preprocessing"
   ]
  },
  {
   "cell_type": "markdown",
   "metadata": {},
   "source": [
    "Here we are reading the data from the files and combining the phases of size **SAMPLE_SIZE**. "
   ]
  },
  {
   "cell_type": "code",
   "execution_count": 3,
   "metadata": {},
   "outputs": [
    {
     "name": "stdout",
     "output_type": "stream",
     "text": [
      "Shape one of three static datas: (3, 100000, 64)\n",
      "Shape one of three moving datas: (3, 100000, 64)\n"
     ]
    }
   ],
   "source": [
    "data_static = [read_data(FOLDER + \"data_static_100_s_\" + str(i+1) + \".csv\") for i in range(N_STATIC)]\n",
    "data_moving = [read_data(FOLDER + \"data_moving_100_s_\" + str(i+1) + \".csv\") for i in range(N_MOVING)]\n",
    "print(f\"Shape one of three static datas: {data_static[0].shape}\")\n",
    "print(f\"Shape one of three moving datas: {data_moving[0].shape}\")"
   ]
  },
  {
   "cell_type": "code",
   "execution_count": 4,
   "metadata": {},
   "outputs": [
    {
     "name": "stdout",
     "output_type": "stream",
     "text": [
      "Shape static phases: (300, 1000)\n",
      "Shape moving phases: (300, 1000)\n",
      "Shape train data: (600, 1000)\n"
     ]
    }
   ],
   "source": [
    "from utils.helper import calculate_phases\n",
    "phases_static = calculate_phases(data_static, N_STATIC, SAMPLE_SIZE)\n",
    "phases_moving = calculate_phases(data_moving, N_STATIC, SAMPLE_SIZE)\n",
    "print(f\"Shape static phases: {phases_static.shape}\")\n",
    "print(f\"Shape moving phases: {phases_moving.shape}\")\n",
    "\n",
    "train_data = np.concatenate((phases_static, phases_moving))\n",
    "print(f\"Shape train data: {train_data.shape}\")"
   ]
  },
  {
   "cell_type": "markdown",
   "metadata": {},
   "source": [
    "Now we need to create labels for the training data."
   ]
  },
  {
   "cell_type": "code",
   "execution_count": 5,
   "metadata": {},
   "outputs": [
    {
     "name": "stdout",
     "output_type": "stream",
     "text": [
      "Shape train labels: (600,)\n"
     ]
    }
   ],
   "source": [
    "indexes = np.arange(train_data.shape[0])\n",
    "train_labels = indexes >= train_data.shape[0]/2\n",
    "print(\"Shape train labels:\", train_labels.shape)"
   ]
  },
  {
   "cell_type": "markdown",
   "metadata": {},
   "source": [
    "Separete data in triain and test sets."
   ]
  },
  {
   "cell_type": "code",
   "execution_count": 10,
   "metadata": {},
   "outputs": [
    {
     "name": "stdout",
     "output_type": "stream",
     "text": [
      "Shape train_X: (480, 1000)\n",
      "Shape test_X: (120, 1000)\n",
      "Shape train_y: (480,)\n",
      "Shape test_y: (120,)\n"
     ]
    }
   ],
   "source": [
    "from sklearn.model_selection import train_test_split\n",
    "train_X, test_X, train_y, test_y = train_test_split(train_data, train_labels, test_size=0.2)\n",
    "print(f\"Shape train_X: {train_X.shape}\")\n",
    "print(f\"Shape test_X: {test_X.shape}\")\n",
    "print(f\"Shape train_y: {train_y.shape}\")\n",
    "print(f\"Shape test_y: {test_y.shape}\")"
   ]
  },
  {
   "cell_type": "markdown",
   "metadata": {},
   "source": [
    "## Model"
   ]
  },
  {
   "cell_type": "markdown",
   "metadata": {},
   "source": [
    "### Simple Threshold classifier"
   ]
  },
  {
   "cell_type": "code",
   "execution_count": 14,
   "metadata": {},
   "outputs": [
    {
     "name": "stdout",
     "output_type": "stream",
     "text": [
      "              precision    recall  f1-score   support\n",
      "\n",
      "       False       0.65      1.00      0.79       300\n",
      "        True       1.00      0.46      0.63       300\n",
      "\n",
      "    accuracy                           0.73       600\n",
      "   macro avg       0.82      0.73      0.71       600\n",
      "weighted avg       0.82      0.73      0.71       600\n",
      "\n"
     ]
    }
   ],
   "source": [
    "from sklearn.metrics import classification_report\n",
    "means = np.mean(train_data, axis=1)\n",
    "classified_data = means > 30 # False = not moving True = moving\n",
    "\n",
    "print(classification_report(train_labels, classified_data))"
   ]
  },
  {
   "cell_type": "markdown",
   "metadata": {},
   "source": [
    "### Simple MLP classifier"
   ]
  },
  {
   "cell_type": "code",
   "execution_count": 12,
   "metadata": {},
   "outputs": [
    {
     "name": "stdout",
     "output_type": "stream",
     "text": [
      "Iteration 1, loss = 0.80789550\n",
      "Validation score: 0.479167\n",
      "Iteration 2, loss = 0.80179667\n",
      "Validation score: 0.479167\n",
      "Iteration 3, loss = 0.79586725\n",
      "Validation score: 0.479167\n",
      "Iteration 4, loss = 0.79012102\n",
      "Validation score: 0.479167\n",
      "Iteration 5, loss = 0.78519494\n",
      "Validation score: 0.479167\n",
      "Iteration 6, loss = 0.77990572\n",
      "Validation score: 0.479167\n",
      "Iteration 7, loss = 0.77535556\n",
      "Validation score: 0.479167\n",
      "Iteration 8, loss = 0.77040554\n",
      "Validation score: 0.479167\n",
      "Iteration 9, loss = 0.76582124\n",
      "Validation score: 0.479167\n",
      "Iteration 10, loss = 0.76175086\n",
      "Validation score: 0.479167\n",
      "Iteration 11, loss = 0.75753337\n",
      "Validation score: 0.479167\n",
      "Iteration 12, loss = 0.75329008\n",
      "Validation score: 0.479167\n",
      "Iteration 13, loss = 0.74989937\n",
      "Validation score: 0.479167\n",
      "Iteration 14, loss = 0.74631684\n",
      "Validation score: 0.479167\n",
      "Iteration 15, loss = 0.74297609\n",
      "Validation score: 0.479167\n",
      "Iteration 16, loss = 0.73983049\n",
      "Validation score: 0.479167\n",
      "Iteration 17, loss = 0.73667526\n",
      "Validation score: 0.479167\n",
      "Iteration 18, loss = 0.73337396\n",
      "Validation score: 0.479167\n",
      "Iteration 19, loss = 0.73059267\n",
      "Validation score: 0.479167\n",
      "Iteration 20, loss = 0.72786017\n",
      "Validation score: 0.479167\n",
      "Iteration 21, loss = 0.72552247\n",
      "Validation score: 0.479167\n",
      "Iteration 22, loss = 0.72315460\n",
      "Validation score: 0.479167\n",
      "Iteration 23, loss = 0.72122789\n",
      "Validation score: 0.479167\n",
      "Iteration 24, loss = 0.71918845\n",
      "Validation score: 0.479167\n",
      "Iteration 25, loss = 0.71725695\n",
      "Validation score: 0.479167\n",
      "Iteration 26, loss = 0.71562847\n",
      "Validation score: 0.479167\n",
      "Iteration 27, loss = 0.71425534\n",
      "Validation score: 0.479167\n",
      "Validation score did not improve more than tol=0.000100 for 25 consecutive epochs. Stopping.\n"
     ]
    },
    {
     "data": {
      "text/plain": [
       "MLPClassifier(activation='logistic', alpha=0.01, early_stopping=True,\n",
       "              hidden_layer_sizes=(10, 10, 10), max_iter=1000,\n",
       "              n_iter_no_change=25, verbose=3)"
      ]
     },
     "execution_count": 12,
     "metadata": {},
     "output_type": "execute_result"
    }
   ],
   "source": [
    "from sklearn.neural_network import MLPClassifier\n",
    "import sklearn.metrics as metric\n",
    "import numpy as np\n",
    "from sklearn.model_selection import GridSearchCV\n",
    "\n",
    "#create the corresponding net with the MLP classifier\n",
    "nn_model = MLPClassifier(activation = \"relu\", hidden_layer_sizes=(10,10), solver = \"adam\", early_stopping=True, n_iter_no_change = 25, alpha = 0.01, verbose = 2)\n",
    "nn_model.fit(train_X, train_y)"
   ]
  },
  {
   "cell_type": "code",
   "execution_count": 13,
   "metadata": {},
   "outputs": [
    {
     "name": "stdout",
     "output_type": "stream",
     "text": [
      "              precision    recall  f1-score   support\n",
      "\n",
      "       False       0.54      1.00      0.70        65\n",
      "        True       0.00      0.00      0.00        55\n",
      "\n",
      "    accuracy                           0.54       120\n",
      "   macro avg       0.27      0.50      0.35       120\n",
      "weighted avg       0.29      0.54      0.38       120\n",
      "\n"
     ]
    },
    {
     "name": "stderr",
     "output_type": "stream",
     "text": [
      "/Users/kostiantynlavronenko/Desktop/Eestech/hackathon-private/venv/lib/python3.8/site-packages/sklearn/metrics/_classification.py:1318: UndefinedMetricWarning: Precision and F-score are ill-defined and being set to 0.0 in labels with no predicted samples. Use `zero_division` parameter to control this behavior.\n",
      "  _warn_prf(average, modifier, msg_start, len(result))\n",
      "/Users/kostiantynlavronenko/Desktop/Eestech/hackathon-private/venv/lib/python3.8/site-packages/sklearn/metrics/_classification.py:1318: UndefinedMetricWarning: Precision and F-score are ill-defined and being set to 0.0 in labels with no predicted samples. Use `zero_division` parameter to control this behavior.\n",
      "  _warn_prf(average, modifier, msg_start, len(result))\n",
      "/Users/kostiantynlavronenko/Desktop/Eestech/hackathon-private/venv/lib/python3.8/site-packages/sklearn/metrics/_classification.py:1318: UndefinedMetricWarning: Precision and F-score are ill-defined and being set to 0.0 in labels with no predicted samples. Use `zero_division` parameter to control this behavior.\n",
      "  _warn_prf(average, modifier, msg_start, len(result))\n"
     ]
    }
   ],
   "source": [
    "y_pred_nn = nn_model.predict(test_X)\n",
    "# print(\"TEST: Precision score: \", precision_score(y_true = y_test, y_pred = y_pred_nn))\n",
    "print(classification_report(test_y, y_pred_nn))"
   ]
  }
 ],
 "metadata": {
  "interpreter": {
   "hash": "5b6733c80a170f7c6ac91b7c9490b4b31eff3db4a9d64c44dc656adf47af7bb6"
  },
  "kernelspec": {
   "display_name": "Python 3.8.8 ('venv': venv)",
   "language": "python",
   "name": "python3"
  },
  "language_info": {
   "codemirror_mode": {
    "name": "ipython",
    "version": 3
   },
   "file_extension": ".py",
   "mimetype": "text/x-python",
   "name": "python",
   "nbconvert_exporter": "python",
   "pygments_lexer": "ipython3",
   "version": "3.8.8"
  },
  "orig_nbformat": 4
 },
 "nbformat": 4,
 "nbformat_minor": 2
}
