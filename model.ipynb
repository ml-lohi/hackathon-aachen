{
 "cells": [
  {
   "cell_type": "markdown",
   "metadata": {},
   "source": [
    "# Classificatino models"
   ]
  },
  {
   "cell_type": "markdown",
   "metadata": {},
   "source": [
    "## Import libraries"
   ]
  },
  {
   "cell_type": "code",
   "execution_count": 1,
   "metadata": {},
   "outputs": [],
   "source": [
    "%matplotlib inline\n",
    "import numpy as np\n",
    "from utils.helper import read_data\n",
    "import utils.processing as processing\n",
    "import matplotlib.pyplot as plt\n",
    "FOLDER = \"data/\"\n",
    "SAMPLE_SIZE = 1000\n",
    "N_STATIC = 3\n",
    "N_MOVING = 3"
   ]
  },
  {
   "cell_type": "markdown",
   "metadata": {},
   "source": [
    "## Data preprocessing"
   ]
  },
  {
   "cell_type": "markdown",
   "metadata": {},
   "source": [
    "Here we are reading the data from the files and combining the phases of size **SAMPLE_SIZE**. "
   ]
  },
  {
   "cell_type": "code",
   "execution_count": 2,
   "metadata": {},
   "outputs": [
    {
     "name": "stdout",
     "output_type": "stream",
     "text": [
      "Shape one of three static datas: (3, 100000, 64)\n",
      "Shape one of three moving datas: (3, 100000, 64)\n"
     ]
    }
   ],
   "source": [
    "data_static = [read_data(FOLDER + \"data_static_100_s_\" + str(i+1) + \".csv\") for i in range(N_STATIC)]\n",
    "data_moving = [read_data(FOLDER + \"data_moving_100_s_\" + str(i+1) + \".csv\") for i in range(N_MOVING)]\n",
    "print(f\"Shape one of three static datas: {data_static[0].shape}\")\n",
    "print(f\"Shape one of three moving datas: {data_moving[0].shape}\")"
   ]
  },
  {
   "cell_type": "code",
   "execution_count": 3,
   "metadata": {},
   "outputs": [
    {
     "name": "stdout",
     "output_type": "stream",
     "text": [
      "Shape static phases: (300, 1000)\n",
      "Shape moving phases: (300, 1000)\n",
      "Shape train data: (600, 1000)\n"
     ]
    }
   ],
   "source": [
    "from utils.helper import calculate_phases\n",
    "phases_static = calculate_phases(data_static, N_STATIC, SAMPLE_SIZE)\n",
    "phases_moving = calculate_phases(data_moving, N_STATIC, SAMPLE_SIZE)\n",
    "print(f\"Shape static phases: {phases_static.shape}\")\n",
    "print(f\"Shape moving phases: {phases_moving.shape}\")\n",
    "\n",
    "train_data = np.concatenate((phases_static, phases_moving))\n",
    "print(f\"Shape train data: {train_data.shape}\")"
   ]
  },
  {
   "cell_type": "markdown",
   "metadata": {},
   "source": [
    "Now we need to create labels for the training data."
   ]
  },
  {
   "cell_type": "code",
   "execution_count": 4,
   "metadata": {},
   "outputs": [
    {
     "name": "stdout",
     "output_type": "stream",
     "text": [
      "Shape train labels: (600,)\n"
     ]
    }
   ],
   "source": [
    "indexes = np.arange(train_data.shape[0])\n",
    "train_labels = indexes >= train_data.shape[0]/2\n",
    "print(\"Shape train labels:\", train_labels.shape)"
   ]
  },
  {
   "cell_type": "markdown",
   "metadata": {},
   "source": [
    "Separete data in triain and test sets."
   ]
  },
  {
   "cell_type": "code",
   "execution_count": 5,
   "metadata": {},
   "outputs": [
    {
     "name": "stdout",
     "output_type": "stream",
     "text": [
      "Shape train_X: (480, 1000)\n",
      "Shape test_X: (120, 1000)\n",
      "Shape train_y: (480,)\n",
      "Shape test_y: (120,)\n"
     ]
    }
   ],
   "source": [
    "from sklearn.model_selection import train_test_split\n",
    "train_X, test_X, train_y, test_y = train_test_split(train_data, train_labels, test_size=0.2)\n",
    "print(f\"Shape train_X: {train_X.shape}\")\n",
    "print(f\"Shape test_X: {test_X.shape}\")\n",
    "print(f\"Shape train_y: {train_y.shape}\")\n",
    "print(f\"Shape test_y: {test_y.shape}\")"
   ]
  },
  {
   "cell_type": "code",
   "execution_count": 6,
   "metadata": {},
   "outputs": [
    {
     "data": {
      "text/plain": [
       "[<matplotlib.lines.Line2D at 0x7faeb94cfc10>]"
      ]
     },
     "execution_count": 6,
     "metadata": {},
     "output_type": "execute_result"
    },
    {
     "data": {
      "image/png": "[encoded data removed]",
      "text/plain": [
       "<Figure size 432x288 with 3 Axes>"
      ]
     },
     "metadata": {
      "needs_background": "light"
     },
     "output_type": "display_data"
    }
   ],
   "source": [
    "fig, axs = plt.subplots(3)\n",
    "fig.suptitle('Static data')\n",
    "axs[0].plot(train_X[0])\n",
    "axs[1].plot(train_X[60])\n",
    "axs[2].plot(train_X[400])"
   ]
  },
  {
   "cell_type": "markdown",
   "metadata": {},
   "source": [
    "## Model"
   ]
  },
  {
   "cell_type": "markdown",
   "metadata": {},
   "source": [
    "### Simple Threshold classifier"
   ]
  },
  {
   "cell_type": "code",
   "execution_count": 7,
   "metadata": {},
   "outputs": [
    {
     "name": "stdout",
     "output_type": "stream",
     "text": [
      "              precision    recall  f1-score   support\n",
      "\n",
      "       False       0.65      1.00      0.79       300\n",
      "        True       1.00      0.46      0.63       300\n",
      "\n",
      "    accuracy                           0.73       600\n",
      "   macro avg       0.82      0.73      0.71       600\n",
      "weighted avg       0.82      0.73      0.71       600\n",
      "\n"
     ]
    }
   ],
   "source": [
    "from sklearn.metrics import classification_report\n",
    "means = np.mean(train_data, axis=1)\n",
    "classified_data = means > 30 # False = not moving True = moving\n",
    "\n",
    "print(classification_report(train_labels, classified_data))"
   ]
  },
  {
   "cell_type": "markdown",
   "metadata": {},
   "source": [
    "### Simple MLP classifier"
   ]
  },
  {
   "cell_type": "code",
   "execution_count": 8,
   "metadata": {},
   "outputs": [
    {
     "name": "stdout",
     "output_type": "stream",
     "text": [
      "Iteration 1, loss = 11.06939653\n",
      "Validation score: 0.541667\n",
      "Iteration 2, loss = 12.56472034\n",
      "Validation score: 0.520833\n",
      "Iteration 3, loss = 14.31429469\n",
      "Validation score: 0.520833\n",
      "Iteration 4, loss = 14.24110967\n",
      "Validation score: 0.520833\n",
      "Iteration 5, loss = 13.21541155\n",
      "Validation score: 0.520833\n",
      "Iteration 6, loss = 11.82868069\n",
      "Validation score: 0.520833\n",
      "Iteration 7, loss = 10.88731320\n",
      "Validation score: 0.520833\n",
      "Iteration 8, loss = 12.04232234\n",
      "Validation score: 0.520833\n",
      "Iteration 9, loss = 14.13339967\n",
      "Validation score: 0.520833\n",
      "Iteration 10, loss = 14.27990119\n",
      "Validation score: 0.520833\n",
      "Iteration 11, loss = 13.54980158\n",
      "Validation score: 0.520833\n",
      "Iteration 12, loss = 12.18237414\n",
      "Validation score: 0.500000\n",
      "Iteration 13, loss = 10.45927787\n",
      "Validation score: 0.437500\n",
      "Iteration 14, loss = 9.49701840\n",
      "Validation score: 0.520833\n",
      "Iteration 15, loss = 9.18931595\n",
      "Validation score: 0.520833\n",
      "Iteration 16, loss = 9.77993480\n",
      "Validation score: 0.520833\n",
      "Iteration 17, loss = 9.27416852\n",
      "Validation score: 0.520833\n",
      "Iteration 18, loss = 7.67193991\n",
      "Validation score: 0.500000\n",
      "Iteration 19, loss = 6.34234474\n",
      "Validation score: 0.520833\n",
      "Iteration 20, loss = 5.69507084\n",
      "Validation score: 0.520833\n",
      "Iteration 21, loss = 4.47659111\n",
      "Validation score: 0.541667\n",
      "Iteration 22, loss = 4.09887707\n",
      "Validation score: 0.541667\n",
      "Iteration 23, loss = 5.51175614\n",
      "Validation score: 0.541667\n",
      "Iteration 24, loss = 7.10241744\n",
      "Validation score: 0.520833\n",
      "Iteration 25, loss = 8.66996294\n",
      "Validation score: 0.520833\n",
      "Iteration 26, loss = 7.37301886\n",
      "Validation score: 0.604167\n",
      "Iteration 27, loss = 7.04975313\n",
      "Validation score: 0.520833\n",
      "Iteration 28, loss = 8.41188411\n",
      "Validation score: 0.520833\n",
      "Iteration 29, loss = 9.10821623\n",
      "Validation score: 0.520833\n",
      "Iteration 30, loss = 8.14871083\n",
      "Validation score: 0.520833\n",
      "Iteration 31, loss = 5.96342488\n",
      "Validation score: 0.520833\n",
      "Iteration 32, loss = 5.08553214\n",
      "Validation score: 0.520833\n",
      "Iteration 33, loss = 5.19954472\n",
      "Validation score: 0.541667\n",
      "Iteration 34, loss = 3.54499392\n",
      "Validation score: 0.562500\n",
      "Iteration 35, loss = 4.59306939\n",
      "Validation score: 0.520833\n",
      "Iteration 36, loss = 8.04348933\n",
      "Validation score: 0.520833\n",
      "Iteration 37, loss = 9.72192213\n",
      "Validation score: 0.479167\n",
      "Iteration 38, loss = 9.19047293\n",
      "Validation score: 0.458333\n",
      "Iteration 39, loss = 8.34255305\n",
      "Validation score: 0.500000\n",
      "Iteration 40, loss = 7.60578433\n",
      "Validation score: 0.520833\n",
      "Iteration 41, loss = 8.34515268\n",
      "Validation score: 0.520833\n",
      "Iteration 42, loss = 8.58217537\n",
      "Validation score: 0.479167\n",
      "Iteration 43, loss = 8.15380082\n",
      "Validation score: 0.520833\n",
      "Iteration 44, loss = 8.65224938\n",
      "Validation score: 0.520833\n",
      "Iteration 45, loss = 8.03889517\n",
      "Validation score: 0.500000\n",
      "Iteration 46, loss = 8.48023512\n",
      "Validation score: 0.520833\n",
      "Iteration 47, loss = 10.52716892\n",
      "Validation score: 0.520833\n",
      "Iteration 48, loss = 11.10548789\n",
      "Validation score: 0.520833\n",
      "Iteration 49, loss = 10.30047448\n",
      "Validation score: 0.520833\n",
      "Iteration 50, loss = 8.13568750\n",
      "Validation score: 0.562500\n",
      "Iteration 51, loss = 10.52417116\n",
      "Validation score: 0.520833\n",
      "Iteration 52, loss = 13.49513728\n",
      "Validation score: 0.520833\n",
      "Validation score did not improve more than tol=0.000100 for 25 consecutive epochs. Stopping.\n"
     ]
    },
    {
     "data": {
      "text/plain": [
       "MLPClassifier(alpha=0.01, early_stopping=True, hidden_layer_sizes=20,\n",
       "              n_iter_no_change=25, verbose=2)"
      ]
     },
     "execution_count": 8,
     "metadata": {},
     "output_type": "execute_result"
    }
   ],
   "source": [
    "from sklearn.neural_network import MLPClassifier\n",
    "import sklearn.metrics as metric\n",
    "import numpy as np\n",
    "from sklearn.model_selection import GridSearchCV\n",
    "\n",
    "#create the corresponding net with the MLP classifier\n",
    "nn_model = MLPClassifier(activation = \"relu\", hidden_layer_sizes=(20), solver = \"adam\", early_stopping=True, n_iter_no_change = 25, alpha = 0.01, verbose = 2)\n",
    "nn_model.fit(train_X, train_y)"
   ]
  },
  {
   "cell_type": "code",
   "execution_count": 10,
   "metadata": {},
   "outputs": [
    {
     "name": "stdout",
     "output_type": "stream",
     "text": [
      "              precision    recall  f1-score   support\n",
      "\n",
      "       False       0.73      0.42      0.53        65\n",
      "        True       0.54      0.82      0.65        55\n",
      "\n",
      "    accuracy                           0.60       120\n",
      "   macro avg       0.64      0.62      0.59       120\n",
      "weighted avg       0.64      0.60      0.59       120\n",
      "\n"
     ]
    }
   ],
   "source": [
    "y_pred_nn = nn_model.predict(test_X)\n",
    "# print(\"TEST: Precision score: \", precision_score(y_true = y_test, y_pred = y_pred_nn))\n",
    "print(classification_report(test_y, y_pred_nn))"
   ]
  }
 ],
 "metadata": {
  "interpreter": {
   "hash": "5b6733c80a170f7c6ac91b7c9490b4b31eff3db4a9d64c44dc656adf47af7bb6"
  },
  "kernelspec": {
   "display_name": "Python 3.8.8 ('venv': venv)",
   "language": "python",
   "name": "python3"
  },
  "language_info": {
   "codemirror_mode": {
    "name": "ipython",
    "version": 3
   },
   "file_extension": ".py",
   "mimetype": "text/x-python",
   "name": "python",
   "nbconvert_exporter": "python",
   "pygments_lexer": "ipython3",
   "version": "3.8.8"
  },
  "orig_nbformat": 4
 },
 "nbformat": 4,
 "nbformat_minor": 2
}
