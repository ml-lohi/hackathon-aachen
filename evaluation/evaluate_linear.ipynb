{
 "cells": [
  {
   "cell_type": "markdown",
   "metadata": {},
   "source": [
    "# Evaluate static / moving state with Linear Discriminant Analysis model"
   ]
  },
  {
   "cell_type": "code",
   "execution_count": 1,
   "metadata": {},
   "outputs": [],
   "source": [
    "import pickle\n",
    "import pandas as pd\n",
    "import numpy as np\n",
    "from utils.helper import read_data\n",
    "import utils.processing as processing\n",
    "import matplotlib.pyplot as plt\n",
    "FOLDER = \"data/\"\n",
    "N_STATIC = 3\n",
    "N_MOVING = 3"
   ]
  },
  {
   "cell_type": "markdown",
   "metadata": {},
   "source": [
    "Open model"
   ]
  },
  {
   "cell_type": "code",
   "execution_count": 2,
   "metadata": {},
   "outputs": [],
   "source": [
    "with open('models/pickle_model.pkl', 'rb') as file:\n",
    "    clf_model = pickle.load(file)"
   ]
  },
  {
   "cell_type": "markdown",
   "metadata": {},
   "source": [
    "### Load data"
   ]
  },
  {
   "cell_type": "code",
   "execution_count": 3,
   "metadata": {},
   "outputs": [],
   "source": [
    "data_static = [read_data(FOLDER + \"data_static_30_s_\" + str(i) + \".csv\") for i in range(N_STATIC)]\n",
    "data_moving = [read_data(FOLDER + \"data_moving_30_s_\" + str(i) + \".csv\") for i in range(N_MOVING)]\n"
   ]
  },
  {
   "cell_type": "markdown",
   "metadata": {},
   "source": [
    "### Preprocess data"
   ]
  },
  {
   "cell_type": "markdown",
   "metadata": {},
   "source": [
    "Static"
   ]
  },
  {
   "cell_type": "code",
   "execution_count": 4,
   "metadata": {},
   "outputs": [],
   "source": [
    "phases_static = []\n",
    "for i in range(N_STATIC):\n",
    "    phases, abses, _, _ = processing.do_processing(data_static[i]) \n",
    "    phases_static.append(np.mean(phases, axis=0))\n",
    "\n",
    "mean_phases_static = np.ravel(phases_static)\n",
    "mean_phases_static = [abs(i) for i in mean_phases_static]"
   ]
  },
  {
   "cell_type": "markdown",
   "metadata": {},
   "source": [
    "Moving"
   ]
  },
  {
   "cell_type": "code",
   "execution_count": 5,
   "metadata": {},
   "outputs": [],
   "source": [
    "phases_moving = []\n",
    "for i in range(N_MOVING):\n",
    "    phases, abses, _, _ = processing.do_processing(data_moving[i]) \n",
    "    phases_moving.append(np.mean(phases, axis=0))\n",
    "\n",
    "mean_phases_moving = np.ravel(phases_moving)\n",
    "mean_phases_moving = [abs(i) for i in mean_phases_moving]"
   ]
  },
  {
   "cell_type": "markdown",
   "metadata": {},
   "source": [
    "Reshape"
   ]
  },
  {
   "cell_type": "code",
   "execution_count": 6,
   "metadata": {},
   "outputs": [],
   "source": [
    "mean_phases_static = np.array(mean_phases_static)\n",
    "mean_phases_static = mean_phases_static.reshape(-1,1)\n",
    "mean_phases_static_indexes = np.arange(len(mean_phases_static)).reshape(-1,1)\n",
    "mean_phases_static_together = np.concatenate((mean_phases_static, mean_phases_static_indexes), axis=1)\n",
    "\n",
    "mean_phases_moving = np.array(mean_phases_moving)\n",
    "mean_phases_moving = mean_phases_moving.reshape(-1,1)\n",
    "mean_phases_moving_indexes = np.arange(len(mean_phases_moving)).reshape(-1,1)\n",
    "mean_phases_moving_together = np.concatenate((mean_phases_moving, mean_phases_moving_indexes), axis=1)\n",
    "\n",
    "test_data = np.concatenate((mean_phases_static_together, mean_phases_moving_together))"
   ]
  },
  {
   "cell_type": "markdown",
   "metadata": {},
   "source": [
    "Labels"
   ]
  },
  {
   "cell_type": "code",
   "execution_count": 7,
   "metadata": {},
   "outputs": [
    {
     "name": "stdout",
     "output_type": "stream",
     "text": [
      "[False False False ...  True  True  True]\n"
     ]
    }
   ],
   "source": [
    "indexes = np.arange(test_data.shape[0])\n",
    "test_labels = indexes >= test_data.shape[0]/2\n",
    "print(test_labels)"
   ]
  },
  {
   "cell_type": "markdown",
   "metadata": {},
   "source": [
    "### Prediction"
   ]
  },
  {
   "cell_type": "code",
   "execution_count": 8,
   "metadata": {},
   "outputs": [
    {
     "name": "stdout",
     "output_type": "stream",
     "text": [
      "              precision    recall  f1-score   support\n",
      "\n",
      "       False       0.79      1.00      0.88     90000\n",
      "        True       1.00      0.73      0.84     90000\n",
      "\n",
      "    accuracy                           0.86    180000\n",
      "   macro avg       0.89      0.86      0.86    180000\n",
      "weighted avg       0.89      0.86      0.86    180000\n",
      "\n",
      "Accuracy : 0.8630722222222222\n"
     ]
    }
   ],
   "source": [
    "from sklearn.metrics import classification_report\n",
    "from sklearn.metrics import accuracy_score\n",
    "\n",
    "predicted_label = clf_model.predict(test_data)\n",
    "\n",
    "print(classification_report(test_labels, predicted_label))\n",
    "\n",
    "print('Accuracy : ' + str(accuracy_score(test_labels, predicted_label)))"
   ]
  }
 ],
 "metadata": {
  "interpreter": {
   "hash": "f976f22ca523fa7c223ddc511be648efe3885e5b69831dadfb203e0f1a349f23"
  },
  "kernelspec": {
   "display_name": "Python 3.8.8 ('venv': venv)",
   "language": "python",
   "name": "python3"
  },
  "language_info": {
   "codemirror_mode": {
    "name": "ipython",
    "version": 3
   },
   "file_extension": ".py",
   "mimetype": "text/x-python",
   "name": "python",
   "nbconvert_exporter": "python",
   "pygments_lexer": "ipython3",
   "version": "3.8.8"
  },
  "orig_nbformat": 4
 },
 "nbformat": 4,
 "nbformat_minor": 2
}
